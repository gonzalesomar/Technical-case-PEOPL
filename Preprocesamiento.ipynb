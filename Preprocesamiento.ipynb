{
 "cells": [
  {
   "cell_type": "markdown",
   "metadata": {},
   "source": [
    "# Limpieza y el preprocesamiento de los datos\n",
    "\n"
   ]
  },
  {
   "cell_type": "code",
   "execution_count": 2,
   "metadata": {},
   "outputs": [],
   "source": [
    "import pandas as pd\n",
    "\n",
    "# Defino los paths de los archivos Excel\n",
    "pipomessage_path = \"tecnica_diego/obscure_pipomessage.xlsx\"\n",
    "user_path = \"tecnica_diego/obscure_user.xlsx\"\n",
    "usermessage_path = \"tecnica_diego/usermessage.xlsx\"\n",
    "symptoms_path = \"tecnica_diego/obscure_symptoms.xlsx\"\n",
    "\n",
    "# Cargar los datos en pandas DataFrames\n",
    "pipomessage_df = pd.read_excel(pipomessage_path)\n",
    "user_df = pd.read_excel(user_path)\n",
    "usermessage_df = pd.read_excel(usermessage_path)\n",
    "symptoms_df = pd.read_excel(symptoms_path)"
   ]
  },
  {
   "cell_type": "markdown",
   "metadata": {},
   "source": [
    "Comenzaremos con la limpieza de los valores de intensidad de los síntomas. Asumimos que cualquier valor por encima de 10 es un error de entrada y debería haber sido 10. Entonces reemplazaremos estos valores con 10"
   ]
  },
  {
   "cell_type": "code",
   "execution_count": 3,
   "metadata": {},
   "outputs": [
    {
     "data": {
      "text/plain": [
       "intensity\n",
       "0.0      19\n",
       "1.0      80\n",
       "2.0     355\n",
       "3.0     527\n",
       "4.0     461\n",
       "5.0     652\n",
       "6.0     483\n",
       "7.0     523\n",
       "8.0     617\n",
       "9.0     294\n",
       "10.0    290\n",
       "Name: count, dtype: int64"
      ]
     },
     "execution_count": 3,
     "metadata": {},
     "output_type": "execute_result"
    }
   ],
   "source": [
    "# Replace symptom intensity values above 10 with 10\n",
    "symptoms_df.loc[symptoms_df['intensity'] > 10, 'intensity'] = 10\n",
    "\n",
    "# Verify the change\n",
    "symptoms_df['intensity'].value_counts().sort_index()"
   ]
  },
  {
   "cell_type": "markdown",
   "metadata": {},
   "source": [
    "# Valores faltantes\n",
    "'cancer_type': Esta informacion solo se registra una sola vez. Entonces, la ausencia de un valor podría indicar que no se conoce el tipo de cáncer del usuario, por lo que podríamos reemplazar los valores faltantes con \"Desconocido\"\n",
    "\n",
    "'body' de la tabla de mensajes de PIPO y de USER:  Vamos a eliminar las filas con mensajes faltantes, ya que es difícil imputar los mensajes\n",
    "\n",
    "'intensity' de la tabla de registro de sintomas: Vamos a llenar los valores faltantes con la mediana, para preservar la distribución de los datos"
   ]
  },
  {
   "cell_type": "code",
   "execution_count": 5,
   "metadata": {},
   "outputs": [
    {
     "data": {
      "text/plain": [
       "(phone_number     0\n",
       " creation_date    0\n",
       " cancer_type      0\n",
       " dtype: int64,\n",
       " id               0\n",
       " patient          0\n",
       " creation_date    0\n",
       " body             6\n",
       " dtype: int64,\n",
       " id                   0\n",
       " patient              1\n",
       " creation_date        0\n",
       " body              4534\n",
       " local_time       25080\n",
       " dtype: int64,\n",
       " id               0\n",
       " user             0\n",
       " creation_date    0\n",
       " description      0\n",
       " intensity        0\n",
       " dtype: int64)"
      ]
     },
     "execution_count": 5,
     "metadata": {},
     "output_type": "execute_result"
    }
   ],
   "source": [
    "from sklearn.impute import SimpleImputer\n",
    "\n",
    "# Reemplazo los canceres faltantes con 'Desconocido'\n",
    "user_df['cancer_type'].fillna('Desconocido', inplace=True)\n",
    "\n",
    "# Eliminamos las filas con mensajes vacios\n",
    "pipomessage_df.dropna(subset=['body'], inplace=True)\n",
    "usermessage_df.dropna(subset=['body'], inplace=True)\n",
    "\n",
    "# Intensidades faltantes con la mediana del dataset\n",
    "imputer = SimpleImputer(strategy='median')\n",
    "symptoms_df['intensity'] = imputer.fit_transform(symptoms_df[['intensity']])\n",
    "\n",
    "# Pasamos a minusculas los mensajes para posterior tratamiento\n",
    "pipomessage_df['body'] = pipomessage_df['body'].str.lower()\n",
    "usermessage_df['body'] = usermessage_df['body'].str.lower()\n",
    "\n",
    "# Verificamos\n",
    "user_df.isnull().sum(), pipomessage_df.isnull().sum(), usermessage_df.isnull().sum(), symptoms_df.isnull().sum()\n"
   ]
  }
 ],
 "metadata": {
  "kernelspec": {
   "display_name": "Python 3",
   "language": "python",
   "name": "python3"
  },
  "language_info": {
   "codemirror_mode": {
    "name": "ipython",
    "version": 3
   },
   "file_extension": ".py",
   "mimetype": "text/x-python",
   "name": "python",
   "nbconvert_exporter": "python",
   "pygments_lexer": "ipython3",
   "version": "3.10.12"
  },
  "orig_nbformat": 4
 },
 "nbformat": 4,
 "nbformat_minor": 2
}
